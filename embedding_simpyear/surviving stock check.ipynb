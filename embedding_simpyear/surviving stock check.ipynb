{
 "cells": [
  {
   "cell_type": "code",
   "execution_count": 1,
   "metadata": {},
   "outputs": [],
   "source": [
    "import matplotlib.pyplot as plt\n",
    "from sklearn.manifold import TSNE\n",
    "import matplotlib.pyplot as plt\n",
    "import tensorflow as tf\n",
    "import os\n",
    "\n",
    "%matplotlib inline \n",
    "plt.rcParams['font.sans-serif']=['SimHei'] #用来正常显示中文标签\n",
    "plt.rcParams['axes.unicode_minus']=False #用来正常显示负号\n",
    "#有中文出现的情况，需要u'内容'\n",
    "\n",
    "import os\n",
    "os.environ[\"CUDA_DEVICE_ORDER\"]=\"PCI_BUS_ID\"   # see issue #152\n",
    "os.environ[\"CUDA_VISIBLE_DEVICES\"]=\"1\"\n",
    "\n",
    "from datum import *\n",
    "import model"
   ]
  },
  {
   "cell_type": "code",
   "execution_count": 5,
   "metadata": {},
   "outputs": [],
   "source": [
    "data = Datum()\n",
    "data.data_prepare()\n",
    "data.get_embedding('{}_{}_{}'.format(2006010120160701, 2015070120160701, 'all'))\n",
    "data.supervised_data_prepare()\n",
    "data.ic_prepare()"
   ]
  },
  {
   "cell_type": "code",
   "execution_count": 4,
   "metadata": {},
   "outputs": [
    {
     "name": "stderr",
     "output_type": "stream",
     "text": [
      "/usr/local/lib/python2.7/dist-packages/requests/__init__.py:80: RequestsDependencyWarning: urllib3 (1.22) or chardet (2.3.0) doesn't match a supported version!\n",
      "  RequestsDependencyWarning)\n"
     ]
    },
    {
     "name": "stdout",
     "output_type": "stream",
     "text": [
      "INFO:tensorflow:Restoring parameters from model-2-4/logmodel-20.ckpt\n",
      "[[ 0.00533119  0.00861297  0.01163525  0.01775976]\n",
      " [ 0.0047437   0.00807584  0.01081765  0.015906  ]\n",
      " [ 0.00592437  0.00856841  0.01186961  0.01874804]\n",
      " [ 0.00545946  0.00869125  0.01172782  0.01796151]\n",
      " [ 0.00544185  0.00870351  0.0116491   0.01770397]\n",
      " [ 0.00535744  0.00862663  0.01137458  0.01736143]\n",
      " [ 0.0055055   0.00854918  0.01151551  0.01766453]\n",
      " [ 0.00513441  0.00834879  0.01148031  0.01764776]\n",
      " [ 0.00545681  0.00869584  0.01148394  0.01744194]\n",
      " [ 0.00538434  0.00849437  0.01164859  0.01882644]\n",
      " [ 0.00531455  0.00792647  0.0105666   0.01617945]\n",
      " [ 0.00517313  0.00810547  0.011003    0.01711503]\n",
      " [ 0.00550428  0.0087894   0.01188265  0.01820152]\n",
      " [ 0.00563899  0.00892414  0.01214325  0.01881503]\n",
      " [ 0.00573653  0.00939034  0.01264649  0.01907944]\n",
      " [ 0.00619974  0.00978822  0.01274211  0.01875576]\n",
      " [ 0.00639513  0.00802536  0.0096745   0.01474617]\n",
      " [ 0.00470926  0.00624155  0.00907467  0.01933415]\n",
      " [ 0.00115865  0.00233035  0.00455291  0.00900912]\n",
      " [ 0.00468171  0.00798117  0.01023213  0.01644713]\n",
      " [ 0.00492476  0.00797424  0.01074476  0.0149146 ]\n",
      " [ 0.00534342  0.00841807  0.01133027  0.01731939]\n",
      " [ 0.0054275   0.00861595  0.01160918  0.01754971]\n",
      " [ 0.00560707  0.0089169   0.01202942  0.01839053]\n",
      " [-0.0047313  -0.00954547 -0.01021054 -0.0129459 ]\n",
      " [ 0.00567098  0.00901621  0.01214523  0.01841363]\n",
      " [ 0.00808605  0.01205829  0.0167976   0.02595569]\n",
      " [ 0.00559768  0.00894478  0.012043    0.01829698]\n",
      " [ 0.00529327  0.00845287  0.01145539  0.01747707]\n",
      " [ 0.00569815  0.00913889  0.01235683  0.018753  ]\n",
      " [ 0.00915122  0.01847058  0.02940789  0.0372593 ]\n",
      " [ 0.00506493  0.00790987  0.0106966   0.01689538]\n",
      " [ 0.00781273  0.01255496  0.01648077  0.02492252]\n",
      " [ 0.00527978  0.00845834  0.01142289  0.01740462]\n",
      " [ 0.00545231  0.008731    0.01169661  0.0177954 ]\n",
      " [ 0.00515028  0.00809761  0.01102532  0.01698061]\n",
      " [ 0.00630567  0.00743282  0.00678341  0.00560858]\n",
      " [ 0.00450119  0.00732224  0.0099115   0.01488913]\n",
      " [ 0.0036481   0.00625428  0.0079359   0.01154011]\n",
      " [ 0.00565964  0.00889064  0.01198077  0.01826615]\n",
      " [ 0.00541128  0.00853577  0.01157053  0.01768847]\n",
      " [ 0.00561312  0.0090648   0.0123603   0.01894182]\n",
      " [-0.00618769 -0.01288024 -0.01463915 -0.01884106]\n",
      " [ 0.00559995  0.00877842  0.01187357  0.01743714]]\n",
      "0.0109444355672\n"
     ]
    }
   ],
   "source": [
    "tf.reset_default_graph()\n",
    "model = Model(3)\n",
    "model.data_initial(data)\n",
    "model.data_split()\n",
    "model.factor_network()\n",
    "model.test()"
   ]
  },
  {
   "cell_type": "code",
   "execution_count": 1,
   "metadata": {},
   "outputs": [],
   "source": [
    "def get_data(start_date, end_date, stock_code):\n",
    "    price_csv = pd.read_csv('/data/zhige_data/huaxia_embedding/stock_data/'+str(stock_code)+'_price.csv')\n",
    "    dates = np.array(price_csv['TradingDay'])\n",
    "    for count in range(len(dates)):\n",
    "        dates[count] = int(''.join(str(dates[count]).split()[0].split('-')))\n",
    "    select_index = np.where((dates >= start_date) & (dates < end_date))[0]\n",
    "    return_price = np.array(price_csv['ClosePrice'][select_index])\n",
    "    \n",
    "    feature_csv = pd.read_csv('/data/zhige_data/huaxia_embedding/stock_data/'+str(stock_code)+'_feature.csv')\n",
    "    dates = np.array(feature_csv['trading_day'])\n",
    "    for count in range(len(dates)):\n",
    "        dates[count] = int(''.join(str(dates[count]).split()[0].split('-')))\n",
    "    select_index = np.where((dates >= start_date) & (dates < end_date))[0]\n",
    "    return_feature = np.array(feature_csv)[select_index, 1:]  \n",
    "    \n",
    "    return return_price, return_feature"
   ]
  },
  {
   "cell_type": "code",
   "execution_count": 3,
   "metadata": {},
   "outputs": [],
   "source": [
    "num_set = set()\n",
    "for filename in os.listdir('/data/zhige_data/huaxia_embedding/stock_data/'):\n",
    "    num = filename.split('_')[0]\n",
    "    if num in num_set:\n",
    "        continue\n",
    "    else:\n",
    "        num_set.add(num)    \n",
    "data = Datum()\n",
    "data.data_prepare() \n",
    "\n",
    "day_feature = get_data(20150701, 20160701, 1)[1].shape[0]\n",
    "day_price = get_data(20150701, 20160701, 1)[0].shape[0]\n",
    "select_num_set = set()\n",
    "for num in num_set:\n",
    "    price, feature = get_data(20150701, 20160701, num)\n",
    "    if price.shape[0] == day_price and feature.shape[0] == day_feature:\n",
    "        select_num_set.add(num)   "
   ]
  },
  {
   "cell_type": "code",
   "execution_count": 4,
   "metadata": {},
   "outputs": [],
   "source": [
    "day_feature = get_data(20150101, 20160101, 1)[1].shape[0]\n",
    "day_price = get_data(20150101, 20160101, 1)[0].shape[0]\n",
    "num_set_1 = set()\n",
    "for num in num_set:\n",
    "    price, feature = get_data(20150101, 20160101, num)\n",
    "    if price.shape[0] == day_price and feature.shape[0] == day_feature:\n",
    "        num_set_1.add(num)"
   ]
  },
  {
   "cell_type": "code",
   "execution_count": 5,
   "metadata": {},
   "outputs": [],
   "source": [
    "day_feature = get_data(20160101, 20170101, 1)[1].shape[0]\n",
    "day_price = get_data(20160101, 20170101, 1)[0].shape[0]\n",
    "num_set_2 = set()\n",
    "for num in num_set:\n",
    "    price, feature = get_data(20160101, 20170101, num)\n",
    "    if price.shape[0] == day_price and feature.shape[0] == day_feature:\n",
    "        num_set_2.add(num)"
   ]
  },
  {
   "cell_type": "code",
   "execution_count": 6,
   "metadata": {},
   "outputs": [],
   "source": [
    "day_feature = get_data(20140701, 20150701, 1)[1].shape[0]\n",
    "day_price = get_data(20140701, 20150701, 1)[0].shape[0]\n",
    "num_set_3 = set()\n",
    "for num in num_set:\n",
    "    price, feature = get_data(20140701, 20150701, num)\n",
    "    if price.shape[0] == day_price and feature.shape[0] == day_feature:\n",
    "        num_set_3.add(num)  "
   ]
  },
  {
   "cell_type": "code",
   "execution_count": 7,
   "metadata": {},
   "outputs": [],
   "source": [
    "day_feature = get_data(20150101, 20160101, 1)[1].shape[0]\n",
    "day_price = get_data(20150101, 20160101, 1)[0].shape[0]\n",
    "num_set_4 = set()\n",
    "for num in num_set:\n",
    "    price, feature = get_data(20150101, 20160101, num)\n",
    "    if price.shape[0] == day_price and feature.shape[0] == day_feature:\n",
    "        num_set_4.add(num)"
   ]
  },
  {
   "cell_type": "code",
   "execution_count": 22,
   "metadata": {},
   "outputs": [
    {
     "data": {
      "text/plain": [
       "set()"
      ]
     },
     "execution_count": 22,
     "metadata": {},
     "output_type": "execute_result"
    }
   ],
   "source": [
    "select_num_set.difference(num_set_2)"
   ]
  },
  {
   "cell_type": "code",
   "execution_count": 8,
   "metadata": {},
   "outputs": [],
   "source": [
    "day_feature = get_data(20160101, 20180101, 1)[1].shape[0]\n",
    "day_price = get_data(20160101, 20180101, 1)[0].shape[0]\n",
    "num_set_5 = set()\n",
    "for num in num_set:\n",
    "    price, feature = get_data(20160101, 20180101, num)\n",
    "    if price.shape[0] == day_price and feature.shape[0] == day_feature:\n",
    "        num_set_5.add(num)"
   ]
  },
  {
   "cell_type": "code",
   "execution_count": 12,
   "metadata": {},
   "outputs": [
    {
     "data": {
      "text/plain": [
       "set()"
      ]
     },
     "execution_count": 12,
     "metadata": {},
     "output_type": "execute_result"
    }
   ],
   "source": [
    "num_set_5.difference(num_set_2)"
   ]
  },
  {
   "cell_type": "code",
   "execution_count": 13,
   "metadata": {},
   "outputs": [
    {
     "data": {
      "text/plain": [
       "set()"
      ]
     },
     "execution_count": 13,
     "metadata": {},
     "output_type": "execute_result"
    }
   ],
   "source": [
    "select_num_set.difference(num_set_2)"
   ]
  },
  {
   "cell_type": "code",
   "execution_count": 14,
   "metadata": {},
   "outputs": [
    {
     "data": {
      "text/plain": [
       "{'24', '300186'}"
      ]
     },
     "execution_count": 14,
     "metadata": {},
     "output_type": "execute_result"
    }
   ],
   "source": [
    "num_set_3.difference(num_set_4)"
   ]
  },
  {
   "cell_type": "code",
   "execution_count": 28,
   "metadata": {},
   "outputs": [
    {
     "data": {
      "text/plain": [
       "2777"
      ]
     },
     "execution_count": 28,
     "metadata": {},
     "output_type": "execute_result"
    }
   ],
   "source": [
    "len(num_set_2)"
   ]
  },
  {
   "cell_type": "code",
   "execution_count": 19,
   "metadata": {},
   "outputs": [],
   "source": [
    "a = np.load('/data/zhige_data/huaxia_embedding/embedding/stable_index_2006010120179999_2016010120170101_year.npy')"
   ]
  },
  {
   "cell_type": "code",
   "execution_count": 41,
   "metadata": {},
   "outputs": [
    {
     "data": {
      "text/plain": [
       "(2776,)"
      ]
     },
     "execution_count": 41,
     "metadata": {},
     "output_type": "execute_result"
    }
   ],
   "source": [
    "np.load('/data/zhige_data/huaxia_embedding/embedding/stable_index_2006010120180000_2016010120170101_year.npy').shape"
   ]
  },
  {
   "cell_type": "code",
   "execution_count": 36,
   "metadata": {},
   "outputs": [
    {
     "name": "stdout",
     "output_type": "stream",
     "text": [
      "600610\n"
     ]
    }
   ],
   "source": [
    "list_stable_stocks = [data.list_stocks[i] for i in a]\n",
    "for code in num_set_2:\n",
    "    for _ in range(6-len(code)):\n",
    "        code = '0' + code   \n",
    "    if code not in list_stable_stocks:\n",
    "        print(code)"
   ]
  },
  {
   "cell_type": "code",
   "execution_count": 31,
   "metadata": {},
   "outputs": [
    {
     "data": {
      "text/plain": [
       "'600176'"
      ]
     },
     "execution_count": 31,
     "metadata": {},
     "output_type": "execute_result"
    }
   ],
   "source": [
    "data.list_stocks[0]"
   ]
  },
  {
   "cell_type": "code",
   "execution_count": 34,
   "metadata": {},
   "outputs": [
    {
     "data": {
      "text/plain": [
       "2776"
      ]
     },
     "execution_count": 34,
     "metadata": {},
     "output_type": "execute_result"
    }
   ],
   "source": [
    "len(a)"
   ]
  },
  {
   "cell_type": "code",
   "execution_count": 35,
   "metadata": {},
   "outputs": [
    {
     "data": {
      "text/plain": [
       "2777"
      ]
     },
     "execution_count": 35,
     "metadata": {},
     "output_type": "execute_result"
    }
   ],
   "source": [
    "len(num_set_2)"
   ]
  },
  {
   "cell_type": "code",
   "execution_count": 39,
   "metadata": {},
   "outputs": [
    {
     "data": {
      "text/plain": [
       "(244, 44)"
      ]
     },
     "execution_count": 39,
     "metadata": {},
     "output_type": "execute_result"
    }
   ],
   "source": [
    "get_data(20160101, 20170101, 600610)[1].shape"
   ]
  },
  {
   "cell_type": "code",
   "execution_count": 52,
   "metadata": {},
   "outputs": [],
   "source": [
    "def embedding(emb, stock_select, season_select):\n",
    "    day_feature = get_data(stock_select[0], stock_select[1], 1)[1].shape[0]\n",
    "    day_price = get_data(stock_select[0], stock_select[1], 1)[0].shape[0]\n",
    "    select_num_set = set()\n",
    "    for num in num_set:\n",
    "        price, feature = get_data(stock_select[0], stock_select[1]+20, int(num))\n",
    "        if price.shape[0] >= day_price and feature.shape[0] >= day_feature:\n",
    "            select_num_set.add(num)   \n",
    "\n",
    "    stable_stock_code = set()\n",
    "    for num in select_num_set:\n",
    "        code = num\n",
    "        for _ in range(6-len(code)):\n",
    "            code = '0' + code     \n",
    "        if code in stable_stock_code:\n",
    "            continue\n",
    "        else:\n",
    "            stable_stock_code.add(code)    \n",
    "    \n",
    "    stable_index = []\n",
    "    for idx, stock in enumerate(data.list_stocks):\n",
    "        if stock in stable_stock_code:\n",
    "            stable_index.append(idx)\n",
    "    stable_index = np.array(stable_index)    \n",
    "    list_stable_stocks = [data.list_stocks[i] for i in stable_index]  \n",
    "    print(len(stable_index))"
   ]
  },
  {
   "cell_type": "code",
   "execution_count": 53,
   "metadata": {},
   "outputs": [
    {
     "name": "stdout",
     "output_type": "stream",
     "text": [
      "2776\n"
     ]
    }
   ],
   "source": [
    "embedding([20060101, 20160701], [20160101, 20170101], 'year')"
   ]
  },
  {
   "cell_type": "code",
   "execution_count": null,
   "metadata": {},
   "outputs": [],
   "source": []
  }
 ],
 "metadata": {
  "kernelspec": {
   "display_name": "Python 3",
   "language": "python",
   "name": "python3"
  },
  "language_info": {
   "codemirror_mode": {
    "name": "ipython",
    "version": 3
   },
   "file_extension": ".py",
   "mimetype": "text/x-python",
   "name": "python",
   "nbconvert_exporter": "python",
   "pygments_lexer": "ipython3",
   "version": "3.6.1"
  }
 },
 "nbformat": 4,
 "nbformat_minor": 2
}
