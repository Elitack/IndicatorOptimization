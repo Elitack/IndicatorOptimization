{
 "cells": [
  {
   "cell_type": "code",
   "execution_count": 1,
   "metadata": {},
   "outputs": [
    {
     "name": "stderr",
     "output_type": "stream",
     "text": [
      "/usr/local/lib/python2.7/dist-packages/requests/__init__.py:80: RequestsDependencyWarning: urllib3 (1.22) or chardet (2.3.0) doesn't match a supported version!\n",
      "  RequestsDependencyWarning)\n"
     ]
    }
   ],
   "source": [
    "import matplotlib.pyplot as plt\n",
    "from sklearn.manifold import TSNE\n",
    "import matplotlib.pyplot as plt\n",
    "import tensorflow as tf\n",
    "from sklearn.cluster import AffinityPropagation\n",
    "from gensim.models import Word2Vec\n",
    "\n",
    "%matplotlib inline \n",
    "plt.rcParams['font.sans-serif']=['SimHei'] #用来正常显示中文标签\n",
    "plt.rcParams['axes.unicode_minus']=False #用来正常显示负号\n",
    "#有中文出现的情况，需要u'内容'\n",
    "\n",
    "import os\n",
    "os.environ[\"CUDA_DEVICE_ORDER\"]=\"PCI_BUS_ID\"   # see issue #152\n",
    "os.environ[\"CUDA_VISIBLE_DEVICES\"]=\"3\"\n",
    "\n",
    "import scipy.stats as stats\n",
    "from datum import *\n",
    "import model\n",
    "import sys"
   ]
  },
  {
   "cell_type": "code",
   "execution_count": null,
   "metadata": {},
   "outputs": [],
   "source": [
    "a = "
   ]
  },
  {
   "cell_type": "code",
   "execution_count": 6,
   "metadata": {},
   "outputs": [],
   "source": [
    "data = Datum()\n",
    "data.data_prepare() "
   ]
  },
  {
   "cell_type": "code",
   "execution_count": 7,
   "metadata": {},
   "outputs": [
    {
     "ename": "IndexError",
     "evalue": "index 2553 is out of bounds for axis 0 with size 2452",
     "output_type": "error",
     "traceback": [
      "\u001b[0;31m---------------------------------------------------------------------------\u001b[0m",
      "\u001b[0;31mIndexError\u001b[0m                                Traceback (most recent call last)",
      "\u001b[0;32m<ipython-input-7-98896c56899f>\u001b[0m in \u001b[0;36m<module>\u001b[0;34m()\u001b[0m\n\u001b[1;32m      3\u001b[0m \u001b[0membedding\u001b[0m \u001b[0;34m=\u001b[0m \u001b[0mnp\u001b[0m\u001b[0;34m.\u001b[0m\u001b[0mzeros\u001b[0m\u001b[0;34m(\u001b[0m\u001b[0;34m(\u001b[0m\u001b[0mlen\u001b[0m\u001b[0;34m(\u001b[0m\u001b[0mdata\u001b[0m\u001b[0;34m.\u001b[0m\u001b[0mlist_stocks\u001b[0m\u001b[0;34m)\u001b[0m\u001b[0;34m,\u001b[0m \u001b[0mtotal_embedding\u001b[0m\u001b[0;34m.\u001b[0m\u001b[0mshape\u001b[0m\u001b[0;34m[\u001b[0m\u001b[0;36m1\u001b[0m\u001b[0;34m]\u001b[0m\u001b[0;34m-\u001b[0m\u001b[0;36m1\u001b[0m\u001b[0;34m)\u001b[0m\u001b[0;34m)\u001b[0m\u001b[0;34m\u001b[0m\u001b[0m\n\u001b[1;32m      4\u001b[0m \u001b[0;32mfor\u001b[0m \u001b[0memb\u001b[0m \u001b[0;32min\u001b[0m \u001b[0mtotal_embedding\u001b[0m\u001b[0;34m:\u001b[0m\u001b[0;34m\u001b[0m\u001b[0m\n\u001b[0;32m----> 5\u001b[0;31m     \u001b[0membedding\u001b[0m\u001b[0;34m[\u001b[0m\u001b[0mint\u001b[0m\u001b[0;34m(\u001b[0m\u001b[0memb\u001b[0m\u001b[0;34m[\u001b[0m\u001b[0;36m0\u001b[0m\u001b[0;34m]\u001b[0m\u001b[0;34m)\u001b[0m\u001b[0;34m]\u001b[0m \u001b[0;34m=\u001b[0m \u001b[0memb\u001b[0m\u001b[0;34m[\u001b[0m\u001b[0;36m1\u001b[0m\u001b[0;34m:\u001b[0m\u001b[0;34m]\u001b[0m\u001b[0;34m\u001b[0m\u001b[0m\n\u001b[0m\u001b[1;32m      6\u001b[0m \u001b[0maf\u001b[0m \u001b[0;34m=\u001b[0m \u001b[0mAffinityPropagation\u001b[0m\u001b[0;34m(\u001b[0m\u001b[0mpreference\u001b[0m\u001b[0;34m=\u001b[0m\u001b[0;34m-\u001b[0m\u001b[0;36m100\u001b[0m\u001b[0;34m)\u001b[0m\u001b[0;34m.\u001b[0m\u001b[0mfit\u001b[0m\u001b[0;34m(\u001b[0m\u001b[0membedding\u001b[0m\u001b[0;34m)\u001b[0m\u001b[0;34m\u001b[0m\u001b[0m\n\u001b[1;32m      7\u001b[0m \u001b[0mdistance\u001b[0m \u001b[0;34m=\u001b[0m \u001b[0mnp\u001b[0m\u001b[0;34m.\u001b[0m\u001b[0mzeros\u001b[0m\u001b[0;34m(\u001b[0m\u001b[0;34m(\u001b[0m\u001b[0membedding\u001b[0m\u001b[0;34m.\u001b[0m\u001b[0mshape\u001b[0m\u001b[0;34m[\u001b[0m\u001b[0;36m0\u001b[0m\u001b[0;34m]\u001b[0m\u001b[0;34m,\u001b[0m \u001b[0membedding\u001b[0m\u001b[0;34m.\u001b[0m\u001b[0mshape\u001b[0m\u001b[0;34m[\u001b[0m\u001b[0;36m0\u001b[0m\u001b[0;34m]\u001b[0m\u001b[0;34m)\u001b[0m\u001b[0;34m)\u001b[0m\u001b[0;34m\u001b[0m\u001b[0m\n",
      "\u001b[0;31mIndexError\u001b[0m: index 2553 is out of bounds for axis 0 with size 2452"
     ]
    }
   ],
   "source": [
    "cluster1 = []\n",
    "total_embedding = np.array(pd.read_csv('/data/zhige_data/embedding_rotation/embedding/2014version0.emb', header=None, sep=' ', skiprows=1))\n",
    "embedding = np.zeros((len(data.list_stocks), total_embedding.shape[1]-1))\n",
    "for emb in total_embedding:\n",
    "    embedding[int(emb[0])] = emb[1:]\n",
    "af = AffinityPropagation(preference=-100).fit(embedding)\n",
    "distance = np.zeros((embedding.shape[0], embedding.shape[0]))\n",
    "for i in range(embedding.shape[0]):\n",
    "    for j in range(embedding.shape[0]):\n",
    "        distance[i][j] = np.linalg.norm(embedding[i]-embedding[j])\n",
    "cluster_num = 0\n",
    "for idx in af.cluster_centers_indices_:\n",
    "    cluster_idx = np.where(af.labels_ == af.labels_[idx])[0]\n",
    "    cluster1.append(cluster_idx.tolist())"
   ]
  },
  {
   "cell_type": "code",
   "execution_count": null,
   "metadata": {},
   "outputs": [],
   "source": [
    "cluster2 = []\n",
    "total_embedding = np.array(pd.read_csv('/data/zhige_data/embedding_rotation/embedding/2014version1.emb', header=None, sep=' ', skiprows=1))\n",
    "embedding = np.zeros((len(data.list_stocks), total_embedding.shape[1]-1))\n",
    "for emb in total_embedding:\n",
    "    embedding[int(emb[0])] = emb[1:]\n",
    "af = AffinityPropagation(preference=-100).fit(embedding)\n",
    "distance = np.zeros((embedding.shape[0], embedding.shape[0]))\n",
    "for i in range(embedding.shape[0]):\n",
    "    for j in range(embedding.shape[0]):\n",
    "        distance[i][j] = np.linalg.norm(embedding[i]-embedding[j])\n",
    "cluster_num = 0\n",
    "for idx in af.cluster_centers_indices_:\n",
    "    cluster_idx = np.where(af.labels_ == af.labels_[idx])[0]\n",
    "    cluster2.append(cluster_idx.tolist())"
   ]
  },
  {
   "cell_type": "code",
   "execution_count": null,
   "metadata": {},
   "outputs": [],
   "source": [
    "cluster3 = []\n",
    "total_embedding = np.array(pd.read_csv('/data/zhige_data/embedding_rotation/embedding/2014version2.emb', header=None, sep=' ', skiprows=1))\n",
    "embedding = np.zeros((len(data.list_stocks), total_embedding.shape[1]-1))\n",
    "for emb in total_embedding:\n",
    "    embedding[int(emb[0])] = emb[1:]\n",
    "af = AffinityPropagation(preference=-100).fit(embedding)\n",
    "distance = np.zeros((embedding.shape[0], embedding.shape[0]))\n",
    "for i in range(embedding.shape[0]):\n",
    "    for j in range(embedding.shape[0]):\n",
    "        distance[i][j] = np.linalg.norm(embedding[i]-embedding[j])\n",
    "cluster_num = 0\n",
    "for idx in af.cluster_centers_indices_:\n",
    "    cluster_idx = np.where(af.labels_ == af.labels_[idx])[0]\n",
    "    cluster3.append(cluster_idx.tolist())"
   ]
  },
  {
   "cell_type": "code",
   "execution_count": null,
   "metadata": {},
   "outputs": [],
   "source": [
    "def embedding_cluster(file_param):\n",
    "    data.get_embedding(file_param)\n",
    "    af = AffinityPropagation(preference=-50).fit(data.embedding)\n",
    "    distance = np.zeros((data.embedding.shape[0], data.embedding.shape[0]))\n",
    "    for i in range(data.embedding.shape[0]):\n",
    "        for j in range(data.embedding.shape[0]):\n",
    "            distance[i][j] = np.linalg.norm(data.embedding[i]-data.embedding[j])\n",
    "    f = open('cluster_result_'+file_param+'.txt', 'w')\n",
    "    cluster_num = 0\n",
    "    for idx in af.cluster_centers_indices_:\n",
    "        f.write('new cluster\\n')\n",
    "        cluster_idx = np.where(af.labels_ == af.labels_[idx])[0]\n",
    "        sli = distance[idx]\n",
    "        arg_rank = np.argsort(sli[cluster_idx])\n",
    "        for arg in arg_rank:\n",
    "            arg_true = cluster_idx[arg]\n",
    "            if arg_true >= len(data.use_index):\n",
    "                continue\n",
    "            code = data.list_stocks[arg_true]       \n",
    "            try:\n",
    "                name = data.dict_code2name[code].split(';')[-2]\n",
    "            except:\n",
    "                name = 'Not know'\n",
    "            f.write(str(cluster_num)+','+str(arg_true)+', '+code+', '+name+'\\n')\n",
    "        cluster_num = cluster_num + 1\n",
    "        f.write('\\n\\n\\n\\n')"
   ]
  },
  {
   "cell_type": "code",
   "execution_count": null,
   "metadata": {},
   "outputs": [],
   "source": [
    "def cluster_purity(base_clusters, test_clusters):\n",
    "    purity = []\n",
    "    num_element = []\n",
    "    for test_cluster in test_clusters:\n",
    "        count = np.zeros(len(base_clusters)+1)\n",
    "        for element in test_cluster:\n",
    "            flag = False\n",
    "            for base_cluster_index, base_cluster in enumerate(base_clusters):\n",
    "                if element in base_cluster:\n",
    "                    count[base_cluster_index] += 1 \n",
    "                    flag = True\n",
    "                    break\n",
    "            if flag == False:\n",
    "                count[-1] += 1\n",
    "        max_index = count[:-1].argmax()\n",
    "        P = count[max_index] / np.sum(count)\n",
    "        purity.append(P)\n",
    "        num_element.append(np.sum(count))\n",
    "    value_purity = 0\n",
    "    purity = np.array(purity)\n",
    "    num_element = np.array(num_element)\n",
    "    \n",
    "    return np.sum(purity * num_element) / np.sum(num_element)"
   ]
  },
  {
   "cell_type": "code",
   "execution_count": null,
   "metadata": {},
   "outputs": [],
   "source": [
    "cluster_purity(cluster1, cluster2)"
   ]
  },
  {
   "cell_type": "code",
   "execution_count": null,
   "metadata": {},
   "outputs": [],
   "source": [
    "cluster_purity(cluster1, cluster3)"
   ]
  },
  {
   "cell_type": "code",
   "execution_count": null,
   "metadata": {},
   "outputs": [],
   "source": [
    "cluster_purity(cluster2, cluster1)"
   ]
  },
  {
   "cell_type": "code",
   "execution_count": 14,
   "metadata": {},
   "outputs": [],
   "source": [
    "cluster1_100 = []\n",
    "for clu in cluster1:\n",
    "    if len(clu) > 100:\n",
    "        cluster1_100.append(clu)"
   ]
  },
  {
   "cell_type": "code",
   "execution_count": 15,
   "metadata": {},
   "outputs": [],
   "source": [
    "cluster2_100 = []\n",
    "for clu in cluster2:\n",
    "    if len(clu) > 100:\n",
    "        cluster2_100.append(clu)"
   ]
  },
  {
   "cell_type": "code",
   "execution_count": 16,
   "metadata": {},
   "outputs": [],
   "source": [
    "cluster3_100 = []\n",
    "for clu in cluster3:\n",
    "    if len(clu) > 100:\n",
    "        cluster3_100.append(clu)"
   ]
  },
  {
   "cell_type": "code",
   "execution_count": null,
   "metadata": {},
   "outputs": [],
   "source": []
  }
 ],
 "metadata": {
  "kernelspec": {
   "display_name": "Python 2",
   "language": "python",
   "name": "python2"
  },
  "language_info": {
   "codemirror_mode": {
    "name": "ipython",
    "version": 2
   },
   "file_extension": ".py",
   "mimetype": "text/x-python",
   "name": "python",
   "nbconvert_exporter": "python",
   "pygments_lexer": "ipython2",
   "version": "2.7.6"
  }
 },
 "nbformat": 4,
 "nbformat_minor": 2
}
