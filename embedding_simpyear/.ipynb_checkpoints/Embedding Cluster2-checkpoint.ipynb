{
 "cells": [
  {
   "cell_type": "code",
   "execution_count": 1,
   "metadata": {},
   "outputs": [
    {
     "name": "stderr",
     "output_type": "stream",
     "text": [
      "/usr/local/lib/python2.7/dist-packages/requests/__init__.py:80: RequestsDependencyWarning: urllib3 (1.22) or chardet (2.3.0) doesn't match a supported version!\n",
      "  RequestsDependencyWarning)\n"
     ]
    }
   ],
   "source": [
    "import matplotlib.pyplot as plt\n",
    "from sklearn.manifold import TSNE\n",
    "import matplotlib.pyplot as plt\n",
    "import tensorflow as tf\n",
    "from sklearn.cluster import AffinityPropagation\n",
    "from gensim.models import Word2Vec\n",
    "\n",
    "%matplotlib inline \n",
    "plt.rcParams['font.sans-serif']=['SimHei'] #用来正常显示中文标签\n",
    "plt.rcParams['axes.unicode_minus']=False #用来正常显示负号\n",
    "#有中文出现的情况，需要u'内容'\n",
    "\n",
    "import os\n",
    "os.environ[\"CUDA_DEVICE_ORDER\"]=\"PCI_BUS_ID\"   # see issue #152\n",
    "os.environ[\"CUDA_VISIBLE_DEVICES\"]=\"3\"\n",
    "\n",
    "import scipy.stats as stats\n",
    "from datum import *\n",
    "import model\n",
    "import sys"
   ]
  },
  {
   "cell_type": "code",
   "execution_count": 1,
   "metadata": {},
   "outputs": [
    {
     "ename": "NameError",
     "evalue": "name 'np' is not defined",
     "output_type": "error",
     "traceback": [
      "\u001b[0;31m---------------------------------------------------------------------------\u001b[0m",
      "\u001b[0;31mNameError\u001b[0m                                 Traceback (most recent call last)",
      "\u001b[0;32m<ipython-input-1-6aff899ac5bf>\u001b[0m in \u001b[0;36m<module>\u001b[0;34m()\u001b[0m\n\u001b[1;32m      1\u001b[0m \u001b[0mcluster1\u001b[0m \u001b[0;34m=\u001b[0m \u001b[0;34m[\u001b[0m\u001b[0;34m]\u001b[0m\u001b[0;34m\u001b[0m\u001b[0m\n\u001b[0;32m----> 2\u001b[0;31m \u001b[0mtotal_embedding\u001b[0m \u001b[0;34m=\u001b[0m \u001b[0mnp\u001b[0m\u001b[0;34m.\u001b[0m\u001b[0marray\u001b[0m\u001b[0;34m(\u001b[0m\u001b[0mpd\u001b[0m\u001b[0;34m.\u001b[0m\u001b[0mread_csv\u001b[0m\u001b[0;34m(\u001b[0m\u001b[0;34m'/data/zhige_data/embedding_simpyear/embedding/embedding_2005010120150101_2015010120160101_year.emb'\u001b[0m\u001b[0;34m,\u001b[0m \u001b[0mheader\u001b[0m\u001b[0;34m=\u001b[0m\u001b[0mNone\u001b[0m\u001b[0;34m,\u001b[0m \u001b[0msep\u001b[0m\u001b[0;34m=\u001b[0m\u001b[0;34m' '\u001b[0m\u001b[0;34m,\u001b[0m \u001b[0mskiprows\u001b[0m\u001b[0;34m=\u001b[0m\u001b[0;36m1\u001b[0m\u001b[0;34m)\u001b[0m\u001b[0;34m)\u001b[0m\u001b[0;34m\u001b[0m\u001b[0m\n\u001b[0m\u001b[1;32m      3\u001b[0m \u001b[0mindex\u001b[0m \u001b[0;34m=\u001b[0m \u001b[0mtotal_embedding\u001b[0m\u001b[0;34m[\u001b[0m\u001b[0;34m:\u001b[0m\u001b[0;34m,\u001b[0m \u001b[0;36m0\u001b[0m\u001b[0;34m]\u001b[0m\u001b[0;34m\u001b[0m\u001b[0m\n\u001b[1;32m      4\u001b[0m \u001b[0msort_index\u001b[0m \u001b[0;34m=\u001b[0m \u001b[0mnp\u001b[0m\u001b[0;34m.\u001b[0m\u001b[0margsort\u001b[0m\u001b[0;34m(\u001b[0m\u001b[0mindex\u001b[0m\u001b[0;34m)\u001b[0m\u001b[0;34m\u001b[0m\u001b[0m\n\u001b[1;32m      5\u001b[0m \u001b[0membedding\u001b[0m \u001b[0;34m=\u001b[0m \u001b[0;34m[\u001b[0m\u001b[0;34m]\u001b[0m\u001b[0;34m\u001b[0m\u001b[0m\n",
      "\u001b[0;31mNameError\u001b[0m: name 'np' is not defined"
     ]
    }
   ],
   "source": [
    "cluster1 = []\n",
    "total_embedding = np.array(pd.read_csv('/data/zhige_data/embedding_simpyear/embedding/embedding_2005010120150101_2015010120160101_year.emb', header=None, sep=' ', skiprows=1))\n",
    "index = total_embedding[:, 0]\n",
    "sort_index = np.argsort(index)\n",
    "embedding = []\n",
    "for arg in sort_index:\n",
    "    embedding.append(total_embedding[arg, 1:])\n",
    "embedding = np.array(embedding)\n",
    "af = AffinityPropagation(preference=-100).fit(embedding)\n",
    "distance = np.zeros((embedding.shape[0], embedding.shape[0]))\n",
    "for i in range(embedding.shape[0]):\n",
    "    for j in range(embedding.shape[0]):\n",
    "        distance[i][j] = np.linalg.norm(embedding[i]-embedding[j])\n",
    "cluster_num = 0\n",
    "for idx in af.cluster_centers_indices_:\n",
    "    cluster_idx = np.where(af.labels_ == af.labels_[idx])[0]\n",
    "    cluster1.append(cluster_idx.tolist())"
   ]
  },
  {
   "cell_type": "code",
   "execution_count": 21,
   "metadata": {},
   "outputs": [],
   "source": [
    "cluster2 = []\n",
    "total_embedding = np.array(pd.read_csv('/data/zhige_data/embedding_rotation/embedding/2015version1.emb', header=None, sep=' ', skiprows=1))\n",
    "embedding = np.zeros((len(data.list_funds)+len(data.list_stocks), total_embedding.shape[1]-1))\n",
    "for emb in total_embedding:\n",
    "    embedding[int(emb[0])] = emb[1:]\n",
    "af = AffinityPropagation(preference=-100).fit(embedding)\n",
    "distance = np.zeros((embedding.shape[0], embedding.shape[0]))\n",
    "for i in range(embedding.shape[0]):\n",
    "    for j in range(embedding.shape[0]):\n",
    "        distance[i][j] = np.linalg.norm(embedding[i]-embedding[j])\n",
    "cluster_num = 0\n",
    "for idx in af.cluster_centers_indices_:\n",
    "    cluster_idx = np.where(af.labels_ == af.labels_[idx])[0]\n",
    "    cluster2.append(cluster_idx.tolist())"
   ]
  },
  {
   "cell_type": "code",
   "execution_count": null,
   "metadata": {},
   "outputs": [],
   "source": [
    "cluster3 = []\n",
    "total_embedding = np.array(pd.read_csv('/data/zhige_data/embedding_rotation/embedding/2015version2.emb', header=None, sep=' ', skiprows=1))\n",
    "embedding = np.zeros((len(data.list_funds)+len(data.list_stocks), total_embedding.shape[1]-1))\n",
    "for emb in total_embedding:\n",
    "    embedding[int(emb[0])] = emb[1:]\n",
    "af = AffinityPropagation(preference=-100).fit(embedding)\n",
    "distance = np.zeros((embedding.shape[0], embedding.shape[0]))\n",
    "for i in range(embedding.shape[0]):\n",
    "    for j in range(embedding.shape[0]):\n",
    "        distance[i][j] = np.linalg.norm(embedding[i]-embedding[j])\n",
    "cluster_num = 0\n",
    "for idx in af.cluster_centers_indices_:\n",
    "    cluster_idx = np.where(af.labels_ == af.labels_[idx])[0]\n",
    "    cluster3.append(cluster_idx.tolist())"
   ]
  },
  {
   "cell_type": "code",
   "execution_count": 23,
   "metadata": {},
   "outputs": [],
   "source": [
    "def cluster_purity(base_clusters, test_clusters):\n",
    "    purity = []\n",
    "    num_element = []\n",
    "    for test_cluster in test_clusters:\n",
    "        count = np.zeros(len(base_clusters)+1)\n",
    "        for element in test_cluster:\n",
    "            flag = False\n",
    "            for base_cluster_index, base_cluster in enumerate(base_clusters):\n",
    "                if element in base_cluster:\n",
    "                    count[base_cluster_index] += 1 \n",
    "                    flag = True\n",
    "                    break\n",
    "            if flag == False:\n",
    "                count[-1] += 1\n",
    "        max_index = count[:-1].argmax()\n",
    "        P = count[max_index] / np.sum(count)\n",
    "        purity.append(P)\n",
    "        num_element.append(np.sum(count))\n",
    "    value_purity = 0\n",
    "    purity = np.array(purity)\n",
    "    num_element = np.array(num_element)\n",
    "    \n",
    "    return np.sum(purity * num_element) / np.sum(num_element)"
   ]
  },
  {
   "cell_type": "code",
   "execution_count": 24,
   "metadata": {},
   "outputs": [
    {
     "data": {
      "text/plain": [
       "0.72230538922155685"
      ]
     },
     "execution_count": 24,
     "metadata": {},
     "output_type": "execute_result"
    }
   ],
   "source": [
    "cluster_purity(cluster1, cluster2)"
   ]
  },
  {
   "cell_type": "code",
   "execution_count": 25,
   "metadata": {},
   "outputs": [
    {
     "data": {
      "text/plain": [
       "0.62443862275449102"
      ]
     },
     "execution_count": 25,
     "metadata": {},
     "output_type": "execute_result"
    }
   ],
   "source": [
    "cluster_purity(cluster1, cluster3)"
   ]
  },
  {
   "cell_type": "code",
   "execution_count": 26,
   "metadata": {},
   "outputs": [
    {
     "data": {
      "text/plain": [
       "0.72174401197604787"
      ]
     },
     "execution_count": 26,
     "metadata": {},
     "output_type": "execute_result"
    }
   ],
   "source": [
    "cluster_purity(cluster2, cluster1)"
   ]
  },
  {
   "cell_type": "code",
   "execution_count": 27,
   "metadata": {},
   "outputs": [
    {
     "data": {
      "text/plain": [
       "0.63491766467065869"
      ]
     },
     "execution_count": 27,
     "metadata": {},
     "output_type": "execute_result"
    }
   ],
   "source": [
    "cluster_purity(cluster3, cluster1)"
   ]
  },
  {
   "cell_type": "code",
   "execution_count": 29,
   "metadata": {},
   "outputs": [
    {
     "data": {
      "text/plain": [
       "0.58196107784431139"
      ]
     },
     "execution_count": 29,
     "metadata": {},
     "output_type": "execute_result"
    }
   ],
   "source": [
    "cluster_purity(cluster3, cluster2)"
   ]
  },
  {
   "cell_type": "code",
   "execution_count": 30,
   "metadata": {},
   "outputs": [
    {
     "data": {
      "text/plain": [
       "0.56867514970059885"
      ]
     },
     "execution_count": 30,
     "metadata": {},
     "output_type": "execute_result"
    }
   ],
   "source": [
    "cluster_purity(cluster2, cluster3)"
   ]
  },
  {
   "cell_type": "code",
   "execution_count": null,
   "metadata": {},
   "outputs": [],
   "source": []
  }
 ],
 "metadata": {
  "kernelspec": {
   "display_name": "Python 2",
   "language": "python",
   "name": "python2"
  },
  "language_info": {
   "codemirror_mode": {
    "name": "ipython",
    "version": 2
   },
   "file_extension": ".py",
   "mimetype": "text/x-python",
   "name": "python",
   "nbconvert_exporter": "python",
   "pygments_lexer": "ipython2",
   "version": "2.7.6"
  }
 },
 "nbformat": 4,
 "nbformat_minor": 2
}
