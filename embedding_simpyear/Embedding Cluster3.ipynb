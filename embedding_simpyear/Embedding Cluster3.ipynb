{
 "cells": [
  {
   "cell_type": "code",
   "execution_count": 1,
   "metadata": {},
   "outputs": [
    {
     "name": "stderr",
     "output_type": "stream",
     "text": [
      "/usr/local/lib/python2.7/dist-packages/requests/__init__.py:80: RequestsDependencyWarning: urllib3 (1.22) or chardet (2.3.0) doesn't match a supported version!\n",
      "  RequestsDependencyWarning)\n"
     ]
    }
   ],
   "source": [
    "import matplotlib.pyplot as plt\n",
    "from sklearn.manifold import TSNE\n",
    "import matplotlib.pyplot as plt\n",
    "import tensorflow as tf\n",
    "from sklearn.cluster import AffinityPropagation\n",
    "from gensim.models import Word2Vec\n",
    "\n",
    "%matplotlib inline \n",
    "plt.rcParams['font.sans-serif']=['SimHei'] #用来正常显示中文标签\n",
    "plt.rcParams['axes.unicode_minus']=False #用来正常显示负号\n",
    "#有中文出现的情况，需要u'内容'\n",
    "\n",
    "import os\n",
    "os.environ[\"CUDA_DEVICE_ORDER\"]=\"PCI_BUS_ID\"   # see issue #152\n",
    "os.environ[\"CUDA_VISIBLE_DEVICES\"]=\"3\"\n",
    "\n",
    "import scipy.stats as stats\n",
    "from datum import *\n",
    "import model\n",
    "import sys"
   ]
  },
  {
   "cell_type": "code",
   "execution_count": 2,
   "metadata": {},
   "outputs": [],
   "source": [
    "cluster1 = []\n",
    "total_embedding = np.array(pd.read_csv('/data/zhige_data/embedding_simpyear/embedding/embedding_2006010120160101_2016010120170101_year.emb', header=None, sep=' ', skiprows=1))\n",
    "index = total_embedding[:, 0]\n",
    "sort_index = np.argsort(index)\n",
    "embedding = []\n",
    "for arg in sort_index:\n",
    "    embedding.append(total_embedding[arg, 1:])\n",
    "embedding = np.array(embedding)\n",
    "af = AffinityPropagation(preference=-100).fit(embedding)\n",
    "distance = np.zeros((embedding.shape[0], embedding.shape[0]))\n",
    "for i in range(embedding.shape[0]):\n",
    "    for j in range(embedding.shape[0]):\n",
    "        distance[i][j] = np.linalg.norm(embedding[i]-embedding[j])\n",
    "cluster_num = 0\n",
    "for idx in af.cluster_centers_indices_:\n",
    "    cluster_idx = np.where(af.labels_ == af.labels_[idx])[0]\n",
    "    cluster1.append(cluster_idx.tolist())"
   ]
  },
  {
   "cell_type": "code",
   "execution_count": 3,
   "metadata": {},
   "outputs": [],
   "source": [
    "cluster2 = []\n",
    "total_embedding = np.array(pd.read_csv('/data/zhige_data/embedding_simpyear/embedding/embedding_2006010120160102_2016010120170101_year.emb', header=None, sep=' ', skiprows=1))\n",
    "index = total_embedding[:, 0]\n",
    "sort_index = np.argsort(index)\n",
    "embedding = []\n",
    "for arg in sort_index:\n",
    "    embedding.append(total_embedding[arg, 1:])\n",
    "embedding = np.array(embedding)\n",
    "af = AffinityPropagation(preference=-100).fit(embedding)\n",
    "distance = np.zeros((embedding.shape[0], embedding.shape[0]))\n",
    "for i in range(embedding.shape[0]):\n",
    "    for j in range(embedding.shape[0]):\n",
    "        distance[i][j] = np.linalg.norm(embedding[i]-embedding[j])\n",
    "cluster_num = 0\n",
    "for idx in af.cluster_centers_indices_:\n",
    "    cluster_idx = np.where(af.labels_ == af.labels_[idx])[0]\n",
    "    cluster2.append(cluster_idx.tolist())"
   ]
  },
  {
   "cell_type": "code",
   "execution_count": 4,
   "metadata": {},
   "outputs": [],
   "source": [
    "cluster3 = []\n",
    "total_embedding = np.array(pd.read_csv('/data/zhige_data/embedding_simpyear/embedding/embedding_2006010120160103_2016010120170101_year.emb', header=None, sep=' ', skiprows=1))\n",
    "index = total_embedding[:, 0]\n",
    "sort_index = np.argsort(index)\n",
    "embedding = []\n",
    "for arg in sort_index:\n",
    "    embedding.append(total_embedding[arg, 1:])\n",
    "embedding = np.array(embedding)\n",
    "af = AffinityPropagation(preference=-100).fit(embedding)\n",
    "distance = np.zeros((embedding.shape[0], embedding.shape[0]))\n",
    "for i in range(embedding.shape[0]):\n",
    "    for j in range(embedding.shape[0]):\n",
    "        distance[i][j] = np.linalg.norm(embedding[i]-embedding[j])\n",
    "cluster_num = 0\n",
    "for idx in af.cluster_centers_indices_:\n",
    "    cluster_idx = np.where(af.labels_ == af.labels_[idx])[0]\n",
    "    cluster3.append(cluster_idx.tolist())"
   ]
  },
  {
   "cell_type": "code",
   "execution_count": 29,
   "metadata": {},
   "outputs": [],
   "source": [
    "def cluster_purity(base_clusters, test_clusters):\n",
    "    purity = []\n",
    "    num_element = []\n",
    "    for test_cluster in test_clusters:\n",
    "        count = np.zeros(len(base_clusters)+1)\n",
    "        for element in test_cluster:\n",
    "            flag = False\n",
    "            for base_cluster_index, base_cluster in enumerate(base_clusters):\n",
    "                if element in base_cluster:\n",
    "                    count[base_cluster_index] += 1 \n",
    "                    flag = True\n",
    "                    break\n",
    "            if flag == False:\n",
    "                count[-1] += 1\n",
    "        max_index = count[:-1].argmax()\n",
    "        P = count[max_index] / np.sum(count)\n",
    "        purity.append(P)\n",
    "        num_element.append(np.sum(count))\n",
    "    value_purity = 0\n",
    "    purity = np.array(purity)\n",
    "    num_element = np.array(num_element)\n",
    "    \n",
    "    return np.sum(purity * num_element) / np.sum(num_element)"
   ]
  },
  {
   "cell_type": "code",
   "execution_count": 30,
   "metadata": {},
   "outputs": [
    {
     "data": {
      "text/plain": [
       "0.61994760479041922"
      ]
     },
     "execution_count": 30,
     "metadata": {},
     "output_type": "execute_result"
    }
   ],
   "source": [
    "cluster_purity(cluster1, cluster2)"
   ]
  },
  {
   "cell_type": "code",
   "execution_count": 31,
   "metadata": {},
   "outputs": [
    {
     "data": {
      "text/plain": [
       "0.64352544910179643"
      ]
     },
     "execution_count": 31,
     "metadata": {},
     "output_type": "execute_result"
    }
   ],
   "source": [
    "cluster_purity(cluster2, cluster1)"
   ]
  },
  {
   "cell_type": "code",
   "execution_count": 32,
   "metadata": {},
   "outputs": [
    {
     "data": {
      "text/plain": [
       "0.66710329341317365"
      ]
     },
     "execution_count": 32,
     "metadata": {},
     "output_type": "execute_result"
    }
   ],
   "source": [
    "cluster_purity(cluster1, cluster3)"
   ]
  },
  {
   "cell_type": "code",
   "execution_count": 33,
   "metadata": {},
   "outputs": [
    {
     "data": {
      "text/plain": [
       "0.6057260479041916"
      ]
     },
     "execution_count": 33,
     "metadata": {},
     "output_type": "execute_result"
    }
   ],
   "source": [
    "cluster_purity(cluster3, cluster1)"
   ]
  },
  {
   "cell_type": "code",
   "execution_count": 34,
   "metadata": {},
   "outputs": [
    {
     "data": {
      "text/plain": [
       "0.61807634730538918"
      ]
     },
     "execution_count": 34,
     "metadata": {},
     "output_type": "execute_result"
    }
   ],
   "source": [
    "cluster_purity(cluster3, cluster2)"
   ]
  },
  {
   "cell_type": "code",
   "execution_count": 35,
   "metadata": {},
   "outputs": [
    {
     "data": {
      "text/plain": [
       "0.70583832335329344"
      ]
     },
     "execution_count": 35,
     "metadata": {},
     "output_type": "execute_result"
    }
   ],
   "source": [
    "cluster_purity(cluster2, cluster3)"
   ]
  },
  {
   "cell_type": "code",
   "execution_count": 5,
   "metadata": {},
   "outputs": [],
   "source": [
    "import seaborn as sns"
   ]
  },
  {
   "cell_type": "code",
   "execution_count": null,
   "metadata": {},
   "outputs": [],
   "source": []
  }
 ],
 "metadata": {
  "kernelspec": {
   "display_name": "Python 2",
   "language": "python",
   "name": "python2"
  },
  "language_info": {
   "codemirror_mode": {
    "name": "ipython",
    "version": 2
   },
   "file_extension": ".py",
   "mimetype": "text/x-python",
   "name": "python",
   "nbconvert_exporter": "python",
   "pygments_lexer": "ipython2",
   "version": "2.7.6"
  }
 },
 "nbformat": 4,
 "nbformat_minor": 2
}
